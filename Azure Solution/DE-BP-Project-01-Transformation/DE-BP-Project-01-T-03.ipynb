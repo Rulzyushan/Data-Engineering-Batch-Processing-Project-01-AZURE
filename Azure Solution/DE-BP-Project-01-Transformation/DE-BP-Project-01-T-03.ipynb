{
 "cells": [
  {
   "cell_type": "markdown",
   "metadata": {
    "application/vnd.databricks.v1+cell": {
     "cellMetadata": {},
     "inputWidgets": {},
     "nuid": "6f78282c-8b2e-4d08-b282-10ac74de33a7",
     "showTitle": false,
     "tableResultSettingsMap": {},
     "title": ""
    }
   },
   "source": [
    "Transforming column names for all tables in silver container"
   ]
  },
  {
   "cell_type": "code",
   "execution_count": 0,
   "metadata": {
    "application/vnd.databricks.v1+cell": {
     "cellMetadata": {
      "byteLimit": 2048000,
      "rowLimit": 10000
     },
     "inputWidgets": {},
     "nuid": "9373a8be-759a-455d-88af-875c646e847a",
     "showTitle": false,
     "tableResultSettingsMap": {},
     "title": ""
    }
   },
   "outputs": [],
   "source": [
    "\n",
    "table_name = df_dict_T.keys()\n",
    "df_dict_T_S = {}\n",
    "\n",
    "for name in table_name:\n",
    "    \n",
    "    df_TDS = df_dict_T[name]\n",
    "\n",
    "    # Get the list of column names\n",
    "    column_names = df_TDS.columns\n",
    "    \n",
    "    for old_col_name in column_names:\n",
    "        # Convert column name from ColumnName to Column_Name format\n",
    "        # Convert column name from ColumnName to column_name format\n",
    "        uppercase_count = 0\n",
    "        result = []\n",
    "\n",
    "        for char in old_col_name:\n",
    "            if char.isupper():\n",
    "                uppercase_count += 1\n",
    "                if uppercase_count == 2:\n",
    "                    result.append('_' + char.lower())\n",
    "                else:\n",
    "                    result.append(char.lower())\n",
    "            else:\n",
    "                result.append(char)\n",
    "\n",
    "        new_col_name = ''.join(result)\n",
    "        \n",
    "        # Change the column name using withColumnRenamed and regexp_replace\n",
    "        df_TDS = df_TDS.withColumnRenamed(old_col_name, new_col_name)\n",
    "    df_dict_T_S[name] = df_TDS    \n",
    "    #output_path = #################################################\n",
    "    #df_TDS.write.format('delta').mode(\"overwrite\").save(output_path)"
   ]
  },
  {
   "cell_type": "code",
   "execution_count": 0,
   "metadata": {
    "application/vnd.databricks.v1+cell": {
     "cellMetadata": {
      "byteLimit": 2048000,
      "rowLimit": 10000
     },
     "inputWidgets": {},
     "nuid": "754bcd98-1d22-4357-8410-1b2966bf117d",
     "showTitle": false,
     "tableResultSettingsMap": {},
     "title": ""
    }
   },
   "outputs": [
    {
     "output_type": "display_data",
     "data": {
      "text/html": [
       "<style scoped>\n",
       "  .table-result-container {\n",
       "    max-height: 300px;\n",
       "    overflow: auto;\n",
       "  }\n",
       "  table, th, td {\n",
       "    border: 1px solid black;\n",
       "    border-collapse: collapse;\n",
       "  }\n",
       "  th, td {\n",
       "    padding: 5px;\n",
       "  }\n",
       "  th {\n",
       "    text-align: left;\n",
       "  }\n",
       "</style><div class='table-result-container'><table class='table-result'><thead style='background-color: white'><tr><th>address_id</th><th>address_line1</th><th>address_line2</th><th>city</th><th>state_province</th><th>country_region</th><th>postal_code</th><th>rowguid</th><th>modified_date</th></tr></thead><tbody><tr><td>297</td><td>7943 Walnut Ave</td><td>null</td><td>Renton</td><td>Washington</td><td>United States</td><td>98055</td><td>52410DA4-2778-4B1D-A599-95746625CE6D</td><td>2006-08-01</td></tr><tr><td>25</td><td>9178 Jumping St.</td><td>null</td><td>Dallas</td><td>Texas</td><td>United States</td><td>75201</td><td>C8DF3BD9-48F0-4654-A8DD-14A67A84D3C6</td><td>2006-09-01</td></tr><tr><td>446</td><td>52560 Free Street</td><td>null</td><td>Toronto</td><td>Ontario</td><td>Canada</td><td>M4B 1V7</td><td>801A1DFC-5125-486B-AA84-CCBD2EC57CA4</td><td>2005-08-01</td></tr><tr><td>32</td><td>26910 Indela Road</td><td>null</td><td>Montreal</td><td>Quebec</td><td>Canada</td><td>H1Y 2H5</td><td>84A95F62-3AE8-4E7E-BBD5-5A6F00CD982D</td><td>2006-08-01</td></tr><tr><td>185</td><td>2681 Eagle Peak</td><td>null</td><td>Bellevue</td><td>Washington</td><td>United States</td><td>98004</td><td>7BCCF442-2268-46CC-8472-14C44C14E98C</td><td>2006-09-01</td></tr><tr><td>11</td><td>1318 Lasalle Street</td><td>null</td><td>Bothell</td><td>Washington</td><td>United States</td><td>98011</td><td>981B3303-ACA2-49C7-9A96-FB670785B269</td><td>2007-04-01</td></tr><tr><td>445</td><td>6388 Lake City Way</td><td>null</td><td>Burnaby</td><td>British Columbia</td><td>Canada</td><td>V5A 3A6</td><td>53572F25-9133-4A8B-A065-102FF35416EE</td><td>2006-09-01</td></tr><tr><td>9</td><td>8713 Yosemite Ct.</td><td>null</td><td>Bothell</td><td>Washington</td><td>United States</td><td>98011</td><td>268AF621-76D7-4C78-9441-144FD139821A</td><td>2006-07-01</td></tr><tr><td>447</td><td>22580 Free Street</td><td>null</td><td>Toronto</td><td>Ontario</td><td>Canada</td><td>M4B 1V7</td><td>88CEE379-DBB8-433B-B84E-A35E09435500</td><td>2006-08-01</td></tr><tr><td>28</td><td>9228 Via Del Sol</td><td>null</td><td>Phoenix</td><td>Arizona</td><td>United States</td><td>85004</td><td>12AE5EE1-FC3E-468B-9B92-3B970B169774</td><td>2005-09-01</td></tr></tbody></table></div>"
      ]
     },
     "metadata": {
      "application/vnd.databricks.v1+output": {
       "addedWidgets": {},
       "aggData": [],
       "aggError": "",
       "aggOverflow": false,
       "aggSchema": [],
       "aggSeriesLimitReached": false,
       "aggType": "",
       "arguments": {},
       "columnCustomDisplayInfos": {},
       "data": [
        [
         297,
         "7943 Walnut Ave",
         null,
         "Renton",
         "Washington",
         "United States",
         "98055",
         "52410DA4-2778-4B1D-A599-95746625CE6D",
         "2006-08-01"
        ],
        [
         25,
         "9178 Jumping St.",
         null,
         "Dallas",
         "Texas",
         "United States",
         "75201",
         "C8DF3BD9-48F0-4654-A8DD-14A67A84D3C6",
         "2006-09-01"
        ],
        [
         446,
         "52560 Free Street",
         null,
         "Toronto",
         "Ontario",
         "Canada",
         "M4B 1V7",
         "801A1DFC-5125-486B-AA84-CCBD2EC57CA4",
         "2005-08-01"
        ],
        [
         32,
         "26910 Indela Road",
         null,
         "Montreal",
         "Quebec",
         "Canada",
         "H1Y 2H5",
         "84A95F62-3AE8-4E7E-BBD5-5A6F00CD982D",
         "2006-08-01"
        ],
        [
         185,
         "2681 Eagle Peak",
         null,
         "Bellevue",
         "Washington",
         "United States",
         "98004",
         "7BCCF442-2268-46CC-8472-14C44C14E98C",
         "2006-09-01"
        ],
        [
         11,
         "1318 Lasalle Street",
         null,
         "Bothell",
         "Washington",
         "United States",
         "98011",
         "981B3303-ACA2-49C7-9A96-FB670785B269",
         "2007-04-01"
        ],
        [
         445,
         "6388 Lake City Way",
         null,
         "Burnaby",
         "British Columbia",
         "Canada",
         "V5A 3A6",
         "53572F25-9133-4A8B-A065-102FF35416EE",
         "2006-09-01"
        ],
        [
         9,
         "8713 Yosemite Ct.",
         null,
         "Bothell",
         "Washington",
         "United States",
         "98011",
         "268AF621-76D7-4C78-9441-144FD139821A",
         "2006-07-01"
        ],
        [
         447,
         "22580 Free Street",
         null,
         "Toronto",
         "Ontario",
         "Canada",
         "M4B 1V7",
         "88CEE379-DBB8-433B-B84E-A35E09435500",
         "2006-08-01"
        ],
        [
         28,
         "9228 Via Del Sol",
         null,
         "Phoenix",
         "Arizona",
         "United States",
         "85004",
         "12AE5EE1-FC3E-468B-9B92-3B970B169774",
         "2005-09-01"
        ]
       ],
       "datasetInfos": [],
       "dbfsResultPath": null,
       "isJsonSchema": true,
       "metadata": {},
       "overflow": false,
       "plotOptions": {
        "customPlotOptions": {},
        "displayType": "table",
        "pivotAggregation": null,
        "pivotColumns": null,
        "xColumns": null,
        "yColumns": null
       },
       "removedWidgets": [],
       "schema": [
        {
         "metadata": "{}",
         "name": "address_id",
         "type": "\"long\""
        },
        {
         "metadata": "{}",
         "name": "address_line1",
         "type": "\"string\""
        },
        {
         "metadata": "{}",
         "name": "address_line2",
         "type": "\"double\""
        },
        {
         "metadata": "{}",
         "name": "city",
         "type": "\"string\""
        },
        {
         "metadata": "{}",
         "name": "state_province",
         "type": "\"string\""
        },
        {
         "metadata": "{}",
         "name": "country_region",
         "type": "\"string\""
        },
        {
         "metadata": "{}",
         "name": "postal_code",
         "type": "\"string\""
        },
        {
         "metadata": "{}",
         "name": "rowguid",
         "type": "\"string\""
        },
        {
         "metadata": "{}",
         "name": "modified_date",
         "type": "\"string\""
        }
       ],
       "type": "table"
      }
     },
     "output_type": "display_data"
    }
   ],
   "source": [
    "display(df_dict_T_S[\"SalesLT.Address\"].limit(10))"
   ]
  },
  {
   "cell_type": "code",
   "execution_count": 0,
   "metadata": {
    "application/vnd.databricks.v1+cell": {
     "cellMetadata": {},
     "inputWidgets": {},
     "nuid": "4d80f077-76b7-4d4d-ac38-58c1f795f5ef",
     "showTitle": false,
     "tableResultSettingsMap": {},
     "title": ""
    }
   },
   "outputs": [],
   "source": []
  }
 ],
 "metadata": {
  "application/vnd.databricks.v1+notebook": {
   "computePreferences": null,
   "dashboards": [],
   "environmentMetadata": {
    "base_environment": "",
    "client": "1"
   },
   "language": "python",
   "notebookMetadata": {
    "pythonIndentUnit": 4
   },
   "notebookName": "DE-BP-Project-01-T-03",
   "widgets": {}
  }
 },
 "nbformat": 4,
 "nbformat_minor": 0
}
