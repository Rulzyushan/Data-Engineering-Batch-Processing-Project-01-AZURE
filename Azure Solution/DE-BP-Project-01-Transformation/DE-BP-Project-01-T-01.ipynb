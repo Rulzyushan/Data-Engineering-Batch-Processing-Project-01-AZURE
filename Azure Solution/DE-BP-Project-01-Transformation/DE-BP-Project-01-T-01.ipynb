{
 "cells": [
  {
   "cell_type": "code",
   "execution_count": 0,
   "metadata": {
    "application/vnd.databricks.v1+cell": {
     "cellMetadata": {},
     "inputWidgets": {},
     "nuid": "df5e2c9d-a753-415b-aab2-2a9c5c823e5b",
     "showTitle": false,
     "tableResultSettingsMap": {},
     "title": ""
    }
   },
   "outputs": [],
   "source": [
    "service_credential = dbutils.secrets.get(scope=\"<secret-scope>\", key=\"<string>\")\n",
    "\n",
    "# Set Spark configurations\n",
    "spark.conf.set(\"fs.azure.account.auth.type\", \"OAuth\")\n",
    "spark.conf.set(\"fs.azure.account.oauth.provider.type\", \"org.apache.hadoop.fs.azurebfs.oauth2.ClientCredsTokenProvider\")\n",
    "spark.conf.set(\"fs.azure.account.oauth2.client.id\", \"<application-id>\")\n",
    "spark.conf.set(\"fs.azure.account.oauth2.client.secret\", service_credential)\n",
    "spark.conf.set(\"fs.azure.account.oauth2.client.endpoint\", \"https://login.microsoftonline.com/<directory-id>/oauth2/token\")\n"
   ]
  }
 ],
 "metadata": {
  "application/vnd.databricks.v1+notebook": {
   "computePreferences": null,
   "dashboards": [],
   "environmentMetadata": {
    "base_environment": "",
    "client": "1"
   },
   "language": "python",
   "notebookMetadata": {
    "pythonIndentUnit": 4
   },
   "notebookName": "DE-BP-Project-01-T-01",
   "widgets": {}
  }
 },
 "nbformat": 4,
 "nbformat_minor": 0
}
