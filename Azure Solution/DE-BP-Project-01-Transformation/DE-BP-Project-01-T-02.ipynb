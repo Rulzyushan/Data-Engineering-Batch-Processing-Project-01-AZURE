{
 "cells": [
  {
   "cell_type": "code",
   "execution_count": 0,
   "metadata": {
    "application/vnd.databricks.v1+cell": {
     "cellMetadata": {
      "byteLimit": 2048000,
      "rowLimit": 10000
     },
     "inputWidgets": {},
     "nuid": "e65bbd3a-de93-474b-ac78-9aaceda6ffa3",
     "showTitle": false,
     "tableResultSettingsMap": {},
     "title": ""
    }
   },
   "outputs": [],
   "source": [
    "import requests\n",
    "import pandas as pd\n",
    "from pyspark.sql import SparkSession\n",
    "\n",
    "# Initialize Spark session\n",
    "spark = SparkSession.builder.appName(\"GitHubCSVFetcher\").getOrCreate()\n",
    "\n",
    "# GitHub repository details\n",
    "GITHUB_OWNER = \"Rulzyushan\"\n",
    "REPO_NAME = \"Data-Engineering-Batch-Processing-Project-01\"\n",
    "FOLDER_PATH = \"DE-BP-Project-01-Data\"  # e.g., \"data\"\n",
    "GITHUB_API_URL = f\"https://api.github.com/repos/{GITHUB_OWNER}/{REPO_NAME}/contents/{FOLDER_PATH}\"\n",
    "\n",
    "\n",
    "def get_csv_urls_from_github(api_url):\n",
    "    response = requests.get(api_url)\n",
    "    if response.status_code == 200:\n",
    "        files = response.json()\n",
    "        csv_urls = [{\"file_name\": file[\"name\"], \"csv_url\": file[\"download_url\"]} for file in files if file[\"name\"].endswith(\".csv\")]\n",
    "        return csv_urls\n",
    "    else:\n",
    "        print(f\"Failed to fetch data: {response.status_code}\")\n",
    "        return []\n",
    "\n",
    "# Get all CSV file URLs\n",
    "csv_urls = get_csv_urls_from_github(GITHUB_API_URL)\n",
    "\n",
    "#df = spark.createDataFrame(csv_urls, [\"file_name\", \"csv_url\"])"
   ]
  },
  {
   "cell_type": "code",
   "execution_count": 0,
   "metadata": {
    "application/vnd.databricks.v1+cell": {
     "cellMetadata": {
      "byteLimit": 2048000,
      "rowLimit": 10000
     },
     "inputWidgets": {},
     "nuid": "519edcbe-6d04-4c3e-b2b3-d507f9b6c7b6",
     "showTitle": false,
     "tableResultSettingsMap": {},
     "title": ""
    }
   },
   "outputs": [
    {
     "output_type": "display_data",
     "data": {
      "text/html": [
       "<style scoped>\n",
       "  .table-result-container {\n",
       "    max-height: 300px;\n",
       "    overflow: auto;\n",
       "  }\n",
       "  table, th, td {\n",
       "    border: 1px solid black;\n",
       "    border-collapse: collapse;\n",
       "  }\n",
       "  th, td {\n",
       "    padding: 5px;\n",
       "  }\n",
       "  th {\n",
       "    text-align: left;\n",
       "  }\n",
       "</style><div class='table-result-container'><table class='table-result'><thead style='background-color: white'><tr><th>csv_url</th><th>file_name</th></tr></thead><tbody><tr><td>https://raw.githubusercontent.com/Rulzyushan/Data-Engineering-Batch-Processing-Project-01/main/DE-BP-Project-01-Data/SalesLT.Address.csv</td><td>SalesLT.Address.csv</td></tr><tr><td>https://raw.githubusercontent.com/Rulzyushan/Data-Engineering-Batch-Processing-Project-01/main/DE-BP-Project-01-Data/SalesLT.Customer.csv</td><td>SalesLT.Customer.csv</td></tr><tr><td>https://raw.githubusercontent.com/Rulzyushan/Data-Engineering-Batch-Processing-Project-01/main/DE-BP-Project-01-Data/SalesLT.CustomerAddress.csv</td><td>SalesLT.CustomerAddress.csv</td></tr><tr><td>https://raw.githubusercontent.com/Rulzyushan/Data-Engineering-Batch-Processing-Project-01/main/DE-BP-Project-01-Data/SalesLT.Product.csv</td><td>SalesLT.Product.csv</td></tr><tr><td>https://raw.githubusercontent.com/Rulzyushan/Data-Engineering-Batch-Processing-Project-01/main/DE-BP-Project-01-Data/SalesLT.ProductCategory.csv</td><td>SalesLT.ProductCategory.csv</td></tr><tr><td>https://raw.githubusercontent.com/Rulzyushan/Data-Engineering-Batch-Processing-Project-01/main/DE-BP-Project-01-Data/SalesLT.ProductDescription.csv</td><td>SalesLT.ProductDescription.csv</td></tr><tr><td>https://raw.githubusercontent.com/Rulzyushan/Data-Engineering-Batch-Processing-Project-01/main/DE-BP-Project-01-Data/SalesLT.ProductModel.csv</td><td>SalesLT.ProductModel.csv</td></tr><tr><td>https://raw.githubusercontent.com/Rulzyushan/Data-Engineering-Batch-Processing-Project-01/main/DE-BP-Project-01-Data/SalesLT.ProductModelProductDescription.csv</td><td>SalesLT.ProductModelProductDescription.csv</td></tr><tr><td>https://raw.githubusercontent.com/Rulzyushan/Data-Engineering-Batch-Processing-Project-01/main/DE-BP-Project-01-Data/SalesLT.SalesOrderDetail.csv</td><td>SalesLT.SalesOrderDetail.csv</td></tr><tr><td>https://raw.githubusercontent.com/Rulzyushan/Data-Engineering-Batch-Processing-Project-01/main/DE-BP-Project-01-Data/SalesLT.SalesOrderHeader.csv</td><td>SalesLT.SalesOrderHeader.csv</td></tr></tbody></table></div>"
      ]
     },
     "metadata": {
      "application/vnd.databricks.v1+output": {
       "addedWidgets": {},
       "aggData": [],
       "aggError": "",
       "aggOverflow": false,
       "aggSchema": [],
       "aggSeriesLimitReached": false,
       "aggType": "",
       "arguments": {},
       "columnCustomDisplayInfos": {},
       "data": [
        [
         "https://raw.githubusercontent.com/Rulzyushan/Data-Engineering-Batch-Processing-Project-01/main/DE-BP-Project-01-Data/SalesLT.Address.csv",
         "SalesLT.Address.csv"
        ],
        [
         "https://raw.githubusercontent.com/Rulzyushan/Data-Engineering-Batch-Processing-Project-01/main/DE-BP-Project-01-Data/SalesLT.Customer.csv",
         "SalesLT.Customer.csv"
        ],
        [
         "https://raw.githubusercontent.com/Rulzyushan/Data-Engineering-Batch-Processing-Project-01/main/DE-BP-Project-01-Data/SalesLT.CustomerAddress.csv",
         "SalesLT.CustomerAddress.csv"
        ],
        [
         "https://raw.githubusercontent.com/Rulzyushan/Data-Engineering-Batch-Processing-Project-01/main/DE-BP-Project-01-Data/SalesLT.Product.csv",
         "SalesLT.Product.csv"
        ],
        [
         "https://raw.githubusercontent.com/Rulzyushan/Data-Engineering-Batch-Processing-Project-01/main/DE-BP-Project-01-Data/SalesLT.ProductCategory.csv",
         "SalesLT.ProductCategory.csv"
        ],
        [
         "https://raw.githubusercontent.com/Rulzyushan/Data-Engineering-Batch-Processing-Project-01/main/DE-BP-Project-01-Data/SalesLT.ProductDescription.csv",
         "SalesLT.ProductDescription.csv"
        ],
        [
         "https://raw.githubusercontent.com/Rulzyushan/Data-Engineering-Batch-Processing-Project-01/main/DE-BP-Project-01-Data/SalesLT.ProductModel.csv",
         "SalesLT.ProductModel.csv"
        ],
        [
         "https://raw.githubusercontent.com/Rulzyushan/Data-Engineering-Batch-Processing-Project-01/main/DE-BP-Project-01-Data/SalesLT.ProductModelProductDescription.csv",
         "SalesLT.ProductModelProductDescription.csv"
        ],
        [
         "https://raw.githubusercontent.com/Rulzyushan/Data-Engineering-Batch-Processing-Project-01/main/DE-BP-Project-01-Data/SalesLT.SalesOrderDetail.csv",
         "SalesLT.SalesOrderDetail.csv"
        ],
        [
         "https://raw.githubusercontent.com/Rulzyushan/Data-Engineering-Batch-Processing-Project-01/main/DE-BP-Project-01-Data/SalesLT.SalesOrderHeader.csv",
         "SalesLT.SalesOrderHeader.csv"
        ]
       ],
       "datasetInfos": [],
       "dbfsResultPath": null,
       "isJsonSchema": true,
       "metadata": {},
       "overflow": false,
       "plotOptions": {
        "customPlotOptions": {},
        "displayType": "table",
        "pivotAggregation": null,
        "pivotColumns": null,
        "xColumns": null,
        "yColumns": null
       },
       "removedWidgets": [],
       "schema": [
        {
         "metadata": "{}",
         "name": "csv_url",
         "type": "\"string\""
        },
        {
         "metadata": "{}",
         "name": "file_name",
         "type": "\"string\""
        }
       ],
       "type": "table"
      }
     },
     "output_type": "display_data"
    }
   ],
   "source": [
    "display(csv_urls)"
   ]
  },
  {
   "cell_type": "code",
   "execution_count": 0,
   "metadata": {
    "application/vnd.databricks.v1+cell": {
     "cellMetadata": {
      "byteLimit": 2048000,
      "rowLimit": 10000
     },
     "inputWidgets": {},
     "nuid": "71485501-6d5f-48b4-80a2-ba941c6f5da7",
     "showTitle": false,
     "tableResultSettingsMap": {},
     "title": ""
    }
   },
   "outputs": [
    {
     "output_type": "stream",
     "name": "stdout",
     "output_type": "stream",
     "text": [
      "{'SalesLT.Address': DataFrame[AddressID: bigint, AddressLine1: string, AddressLine2: double, City: string, StateProvince: string, CountryRegion: string, PostalCode: string, rowguid: string, ModifiedDate: string],\n 'SalesLT.Customer': DataFrame[CustomerID: bigint, NameStyle: bigint, Title: string, FirstName: string, MiddleName: string, LastName: string, Suffix: string, CompanyName: string, SalesPerson: string, EmailAddress: string, Phone: string, PasswordHash: string, PasswordSalt: string, rowguid: string, ModifiedDate: string],\n 'SalesLT.CustomerAddress': DataFrame[CustomerID: bigint, AddressID: bigint, AddressType: string, rowguid: string, ModifiedDate: string],\n 'SalesLT.Product': DataFrame[ProductID: bigint, Name: string, ProductNumber: string, Color: string, StandardCost: double, ListPrice: double, Size: string, Weight: double, ProductCategoryID: bigint, ProductModelID: bigint, SellStartDate: string, SellEndDate: string, DiscontinuedDate: double, ThumbNailPhoto: string, ThumbnailPhotoFileName: string, rowguid: string, ModifiedDate: string],\n 'SalesLT.ProductCategory': DataFrame[ProductCategoryID: bigint, ParentProductCategoryID: double, Name: string, rowguid: string, ModifiedDate: string],\n 'SalesLT.ProductDescription': DataFrame[ProductDescriptionID: bigint, Description: string, rowguid: string, ModifiedDate: string],\n 'SalesLT.ProductModel': DataFrame[ProductModelID: bigint, Name: string, CatalogDescription: string, rowguid: string, ModifiedDate: string],\n 'SalesLT.ProductModelProductDescription': DataFrame[ProductModelID: bigint, ProductDescriptionID: bigint, Culture: string, rowguid: string, ModifiedDate: string],\n 'SalesLT.SalesOrderDetail': DataFrame[SalesOrderID: bigint, SalesOrderDetailID: bigint, OrderQty: bigint, ProductID: bigint, UnitPrice: double, UnitPriceDiscount: double, LineTotal: double, rowguid: string, ModifiedDate: string],\n 'SalesLT.SalesOrderHeader': DataFrame[SalesOrderID: bigint, RevisionNumber: bigint, OrderDate: string, DueDate: string, ShipDate: string, Status: bigint, OnlineOrderFlag: bigint, SalesOrderNumber: string, PurchaseOrderNumber: string, AccountNumber: string, CustomerID: bigint, ShipToAddressID: bigint, BillToAddressID: bigint, ShipMethod: string, CreditCardApprovalCode: double, SubTotal: double, TaxAmt: double, Freight: double, TotalDue: double, Comment: double, rowguid: string, ModifiedDate: string]}"
     ]
    }
   ],
   "source": [
    "import pandas as pd\n",
    "\n",
    "def read_dataframe(df1):\n",
    "    return spark.createDataFrame(pd.read_csv(df1)) \n",
    "\n",
    "# List to hold the Spark DataFrames\n",
    "df_dict = {}\n",
    "\n",
    "# Loop through each URL in the list of dictionaries\n",
    "for csv_info in csv_urls:\n",
    "    url = csv_info[\"csv_url\"]\n",
    "    file_n = csv_info[\"file_name\"].replace(\".csv\", \"\")\n",
    "    # Read the CSV into a Spark DataFrame\n",
    "    spark_df = read_dataframe(url)\n",
    "    # Store the DataFrame in a dictionary with file_name as the key\n",
    "    df_dict[file_n] = spark_df\n",
    "    \n",
    "display(df_dict)"
   ]
  },
  {
   "cell_type": "code",
   "execution_count": 0,
   "metadata": {
    "application/vnd.databricks.v1+cell": {
     "cellMetadata": {
      "byteLimit": 2048000,
      "rowLimit": 10000
     },
     "inputWidgets": {},
     "nuid": "7cd099b2-a5a4-4e44-bbc3-063b2efd24c3",
     "showTitle": false,
     "tableResultSettingsMap": {},
     "title": ""
    }
   },
   "outputs": [
    {
     "output_type": "display_data",
     "data": {
      "text/html": [
       "<style scoped>\n",
       "  .table-result-container {\n",
       "    max-height: 300px;\n",
       "    overflow: auto;\n",
       "  }\n",
       "  table, th, td {\n",
       "    border: 1px solid black;\n",
       "    border-collapse: collapse;\n",
       "  }\n",
       "  th, td {\n",
       "    padding: 5px;\n",
       "  }\n",
       "  th {\n",
       "    text-align: left;\n",
       "  }\n",
       "</style><div class='table-result-container'><table class='table-result'><thead style='background-color: white'><tr><th>AddressID</th><th>AddressLine1</th><th>AddressLine2</th><th>City</th><th>StateProvince</th><th>CountryRegion</th><th>PostalCode</th><th>rowguid</th><th>ModifiedDate</th></tr></thead><tbody><tr><td>9</td><td>8713 Yosemite Ct.</td><td>null</td><td>Bothell</td><td>Washington</td><td>United States</td><td>98011</td><td>268AF621-76D7-4C78-9441-144FD139821A</td><td>2006-07-01 00:00:00</td></tr><tr><td>11</td><td>1318 Lasalle Street</td><td>null</td><td>Bothell</td><td>Washington</td><td>United States</td><td>98011</td><td>981B3303-ACA2-49C7-9A96-FB670785B269</td><td>2007-04-01 00:00:00</td></tr><tr><td>25</td><td>9178 Jumping St.</td><td>null</td><td>Dallas</td><td>Texas</td><td>United States</td><td>75201</td><td>C8DF3BD9-48F0-4654-A8DD-14A67A84D3C6</td><td>2006-09-01 00:00:00</td></tr><tr><td>28</td><td>9228 Via Del Sol</td><td>null</td><td>Phoenix</td><td>Arizona</td><td>United States</td><td>85004</td><td>12AE5EE1-FC3E-468B-9B92-3B970B169774</td><td>2005-09-01 00:00:00</td></tr><tr><td>32</td><td>26910 Indela Road</td><td>null</td><td>Montreal</td><td>Quebec</td><td>Canada</td><td>H1Y 2H5</td><td>84A95F62-3AE8-4E7E-BBD5-5A6F00CD982D</td><td>2006-08-01 00:00:00</td></tr><tr><td>185</td><td>2681 Eagle Peak</td><td>null</td><td>Bellevue</td><td>Washington</td><td>United States</td><td>98004</td><td>7BCCF442-2268-46CC-8472-14C44C14E98C</td><td>2006-09-01 00:00:00</td></tr><tr><td>297</td><td>7943 Walnut Ave</td><td>null</td><td>Renton</td><td>Washington</td><td>United States</td><td>98055</td><td>52410DA4-2778-4B1D-A599-95746625CE6D</td><td>2006-08-01 00:00:00</td></tr><tr><td>445</td><td>6388 Lake City Way</td><td>null</td><td>Burnaby</td><td>British Columbia</td><td>Canada</td><td>V5A 3A6</td><td>53572F25-9133-4A8B-A065-102FF35416EE</td><td>2006-09-01 00:00:00</td></tr><tr><td>446</td><td>52560 Free Street</td><td>null</td><td>Toronto</td><td>Ontario</td><td>Canada</td><td>M4B 1V7</td><td>801A1DFC-5125-486B-AA84-CCBD2EC57CA4</td><td>2005-08-01 00:00:00</td></tr><tr><td>447</td><td>22580 Free Street</td><td>null</td><td>Toronto</td><td>Ontario</td><td>Canada</td><td>M4B 1V7</td><td>88CEE379-DBB8-433B-B84E-A35E09435500</td><td>2006-08-01 00:00:00</td></tr></tbody></table></div>"
      ]
     },
     "metadata": {
      "application/vnd.databricks.v1+output": {
       "addedWidgets": {},
       "aggData": [],
       "aggError": "",
       "aggOverflow": false,
       "aggSchema": [],
       "aggSeriesLimitReached": false,
       "aggType": "",
       "arguments": {},
       "columnCustomDisplayInfos": {},
       "data": [
        [
         9,
         "8713 Yosemite Ct.",
         null,
         "Bothell",
         "Washington",
         "United States",
         "98011",
         "268AF621-76D7-4C78-9441-144FD139821A",
         "2006-07-01 00:00:00"
        ],
        [
         11,
         "1318 Lasalle Street",
         null,
         "Bothell",
         "Washington",
         "United States",
         "98011",
         "981B3303-ACA2-49C7-9A96-FB670785B269",
         "2007-04-01 00:00:00"
        ],
        [
         25,
         "9178 Jumping St.",
         null,
         "Dallas",
         "Texas",
         "United States",
         "75201",
         "C8DF3BD9-48F0-4654-A8DD-14A67A84D3C6",
         "2006-09-01 00:00:00"
        ],
        [
         28,
         "9228 Via Del Sol",
         null,
         "Phoenix",
         "Arizona",
         "United States",
         "85004",
         "12AE5EE1-FC3E-468B-9B92-3B970B169774",
         "2005-09-01 00:00:00"
        ],
        [
         32,
         "26910 Indela Road",
         null,
         "Montreal",
         "Quebec",
         "Canada",
         "H1Y 2H5",
         "84A95F62-3AE8-4E7E-BBD5-5A6F00CD982D",
         "2006-08-01 00:00:00"
        ],
        [
         185,
         "2681 Eagle Peak",
         null,
         "Bellevue",
         "Washington",
         "United States",
         "98004",
         "7BCCF442-2268-46CC-8472-14C44C14E98C",
         "2006-09-01 00:00:00"
        ],
        [
         297,
         "7943 Walnut Ave",
         null,
         "Renton",
         "Washington",
         "United States",
         "98055",
         "52410DA4-2778-4B1D-A599-95746625CE6D",
         "2006-08-01 00:00:00"
        ],
        [
         445,
         "6388 Lake City Way",
         null,
         "Burnaby",
         "British Columbia",
         "Canada",
         "V5A 3A6",
         "53572F25-9133-4A8B-A065-102FF35416EE",
         "2006-09-01 00:00:00"
        ],
        [
         446,
         "52560 Free Street",
         null,
         "Toronto",
         "Ontario",
         "Canada",
         "M4B 1V7",
         "801A1DFC-5125-486B-AA84-CCBD2EC57CA4",
         "2005-08-01 00:00:00"
        ],
        [
         447,
         "22580 Free Street",
         null,
         "Toronto",
         "Ontario",
         "Canada",
         "M4B 1V7",
         "88CEE379-DBB8-433B-B84E-A35E09435500",
         "2006-08-01 00:00:00"
        ]
       ],
       "datasetInfos": [],
       "dbfsResultPath": null,
       "isJsonSchema": true,
       "metadata": {},
       "overflow": false,
       "plotOptions": {
        "customPlotOptions": {},
        "displayType": "table",
        "pivotAggregation": null,
        "pivotColumns": null,
        "xColumns": null,
        "yColumns": null
       },
       "removedWidgets": [],
       "schema": [
        {
         "metadata": "{}",
         "name": "AddressID",
         "type": "\"long\""
        },
        {
         "metadata": "{}",
         "name": "AddressLine1",
         "type": "\"string\""
        },
        {
         "metadata": "{}",
         "name": "AddressLine2",
         "type": "\"double\""
        },
        {
         "metadata": "{}",
         "name": "City",
         "type": "\"string\""
        },
        {
         "metadata": "{}",
         "name": "StateProvince",
         "type": "\"string\""
        },
        {
         "metadata": "{}",
         "name": "CountryRegion",
         "type": "\"string\""
        },
        {
         "metadata": "{}",
         "name": "PostalCode",
         "type": "\"string\""
        },
        {
         "metadata": "{}",
         "name": "rowguid",
         "type": "\"string\""
        },
        {
         "metadata": "{}",
         "name": "ModifiedDate",
         "type": "\"string\""
        }
       ],
       "type": "table"
      }
     },
     "output_type": "display_data"
    }
   ],
   "source": [
    "display(df_dict[\"SalesLT.Address\"].limit(10))"
   ]
  },
  {
   "cell_type": "markdown",
   "metadata": {
    "application/vnd.databricks.v1+cell": {
     "cellMetadata": {
      "byteLimit": 2048000,
      "rowLimit": 10000
     },
     "inputWidgets": {},
     "nuid": "9532ff0d-8d40-4130-9dc3-3db4b44d957d",
     "showTitle": false,
     "tableResultSettingsMap": {},
     "title": ""
    }
   },
   "source": [
    "Transforming date column and remove duplicates and drop null rows"
   ]
  },
  {
   "cell_type": "code",
   "execution_count": 0,
   "metadata": {
    "application/vnd.databricks.v1+cell": {
     "cellMetadata": {
      "byteLimit": 2048000,
      "rowLimit": 10000
     },
     "inputWidgets": {},
     "nuid": "5023dcb3-9d6c-4b6f-82a8-040c018ed57c",
     "showTitle": false,
     "tableResultSettingsMap": {},
     "title": ""
    }
   },
   "outputs": [],
   "source": [
    "\n",
    "from pyspark.sql.functions import from_utc_timestamp, date_format\n",
    "from pyspark.sql.types import TimestampType\n",
    "from pyspark.sql.functions import col,to_date,datediff,current_date,when\n",
    "\n",
    "table_names = df_dict.keys()\n",
    "df_dict_T = {}\n",
    "for t in table_names:\n",
    "    df_TD = df_dict[t]\n",
    "    cols = df_TD.columns\n",
    "\n",
    "    for col in cols:\n",
    "        if \"Date\" in col or \"date\" in col:\n",
    "            df_TD = df_TD.withColumn (col, date_format(from_utc_timestamp(df_TD[col].cast(TimestampType()), \"UTC\"), \"yyyy-MM-dd\"))\n",
    "    df_dict_T[t] = df_TD.dropDuplicates().na.drop('all')\n",
    "    #df_TD.write.format('delta').mode(\"overwrite\").save(output_path)"
   ]
  },
  {
   "cell_type": "code",
   "execution_count": 0,
   "metadata": {
    "application/vnd.databricks.v1+cell": {
     "cellMetadata": {
      "byteLimit": 2048000,
      "rowLimit": 10000
     },
     "inputWidgets": {},
     "nuid": "d7732fd8-e726-4ce5-92db-931570d56afc",
     "showTitle": false,
     "tableResultSettingsMap": {},
     "title": ""
    }
   },
   "outputs": [
    {
     "output_type": "display_data",
     "data": {
      "text/html": [
       "<style scoped>\n",
       "  .table-result-container {\n",
       "    max-height: 300px;\n",
       "    overflow: auto;\n",
       "  }\n",
       "  table, th, td {\n",
       "    border: 1px solid black;\n",
       "    border-collapse: collapse;\n",
       "  }\n",
       "  th, td {\n",
       "    padding: 5px;\n",
       "  }\n",
       "  th {\n",
       "    text-align: left;\n",
       "  }\n",
       "</style><div class='table-result-container'><table class='table-result'><thead style='background-color: white'><tr><th>ModifiedDate</th></tr></thead><tbody><tr><td>2006-08-01</td></tr><tr><td>2006-09-01</td></tr><tr><td>2005-08-01</td></tr><tr><td>2006-08-01</td></tr><tr><td>2006-09-01</td></tr><tr><td>2007-04-01</td></tr><tr><td>2006-09-01</td></tr><tr><td>2006-07-01</td></tr><tr><td>2006-08-01</td></tr><tr><td>2005-09-01</td></tr></tbody></table></div>"
      ]
     },
     "metadata": {
      "application/vnd.databricks.v1+output": {
       "addedWidgets": {},
       "aggData": [],
       "aggError": "",
       "aggOverflow": false,
       "aggSchema": [],
       "aggSeriesLimitReached": false,
       "aggType": "",
       "arguments": {},
       "columnCustomDisplayInfos": {},
       "data": [
        [
         "2006-08-01"
        ],
        [
         "2006-09-01"
        ],
        [
         "2005-08-01"
        ],
        [
         "2006-08-01"
        ],
        [
         "2006-09-01"
        ],
        [
         "2007-04-01"
        ],
        [
         "2006-09-01"
        ],
        [
         "2006-07-01"
        ],
        [
         "2006-08-01"
        ],
        [
         "2005-09-01"
        ]
       ],
       "datasetInfos": [],
       "dbfsResultPath": null,
       "isJsonSchema": true,
       "metadata": {},
       "overflow": false,
       "plotOptions": {
        "customPlotOptions": {},
        "displayType": "table",
        "pivotAggregation": null,
        "pivotColumns": null,
        "xColumns": null,
        "yColumns": null
       },
       "removedWidgets": [],
       "schema": [
        {
         "metadata": "{}",
         "name": "ModifiedDate",
         "type": "\"string\""
        }
       ],
       "type": "table"
      }
     },
     "output_type": "display_data"
    }
   ],
   "source": [
    "display(df_dict_T[\"SalesLT.Address\"].select(\"ModifiedDate\").limit(10))"
   ]
  },
  {
   "cell_type": "code",
   "execution_count": 0,
   "metadata": {
    "application/vnd.databricks.v1+cell": {
     "cellMetadata": {
      "byteLimit": 2048000,
      "rowLimit": 10000
     },
     "inputWidgets": {},
     "nuid": "354ee621-8488-4264-8f5e-2faa52cdeb36",
     "showTitle": false,
     "tableResultSettingsMap": {},
     "title": ""
    }
   },
   "outputs": [
    {
     "output_type": "stream",
     "name": "stdout",
     "output_type": "stream",
     "text": [
      "Out[68]: 0"
     ]
    }
   ],
   "source": [
    "df_dict[\"SalesLT.Address\"].count() - df_dict_T[\"SalesLT.Address\"].count()"
   ]
  }
 ],
 "metadata": {
  "application/vnd.databricks.v1+notebook": {
   "computePreferences": null,
   "dashboards": [],
   "environmentMetadata": {
    "base_environment": "",
    "client": "1"
   },
   "language": "python",
   "notebookMetadata": {
    "pythonIndentUnit": 4
   },
   "notebookName": "DE-BP-Project-01-T-02",
   "widgets": {}
  }
 },
 "nbformat": 4,
 "nbformat_minor": 0
}
